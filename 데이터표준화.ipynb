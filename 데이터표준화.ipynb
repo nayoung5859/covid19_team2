{
 "cells": [
  {
   "cell_type": "markdown",
   "metadata": {},
   "source": [
    "# [1] 표준화 프로세스"
   ]
  },
  {
   "cell_type": "code",
   "execution_count": 2,
   "metadata": {},
   "outputs": [],
   "source": [
    "import os \n",
    "from os.path import join\n",
    "import copy\n",
    "import warnings\n",
    "warnings.filterwarnings('ignore')\n",
    "\n",
    "import numpy as np\n",
    "import pandas as pd\n",
    "\n",
    "import matplotlib.pyplot as plt"
   ]
  },
  {
   "cell_type": "code",
   "execution_count": 48,
   "metadata": {},
   "outputs": [
    {
     "data": {
      "text/plain": [
       "(1448, 7)"
      ]
     },
     "execution_count": 48,
     "metadata": {},
     "output_type": "execute_result"
    }
   ],
   "source": [
    "df = pd.read_excel('19년 평균 합본_유동,직장,집객,상주,점포_최종.xlsx')\n",
    "df.shape"
   ]
  },
  {
   "cell_type": "code",
   "execution_count": 49,
   "metadata": {},
   "outputs": [
    {
     "data": {
      "text/html": [
       "<div>\n",
       "<style scoped>\n",
       "    .dataframe tbody tr th:only-of-type {\n",
       "        vertical-align: middle;\n",
       "    }\n",
       "\n",
       "    .dataframe tbody tr th {\n",
       "        vertical-align: top;\n",
       "    }\n",
       "\n",
       "    .dataframe thead th {\n",
       "        text-align: right;\n",
       "    }\n",
       "</style>\n",
       "<table border=\"1\" class=\"dataframe\">\n",
       "  <thead>\n",
       "    <tr style=\"text-align: right;\">\n",
       "      <th></th>\n",
       "      <th>상권코드명</th>\n",
       "      <th>유동인구</th>\n",
       "      <th>직장인구</th>\n",
       "      <th>집객시설</th>\n",
       "      <th>상주인구</th>\n",
       "      <th>점포수</th>\n",
       "    </tr>\n",
       "  </thead>\n",
       "  <tbody>\n",
       "    <tr>\n",
       "      <th>0</th>\n",
       "      <td>가로공원로58길</td>\n",
       "      <td>458550.0</td>\n",
       "      <td>97.25</td>\n",
       "      <td>4</td>\n",
       "      <td>2349</td>\n",
       "      <td>58.0</td>\n",
       "    </tr>\n",
       "  </tbody>\n",
       "</table>\n",
       "</div>"
      ],
      "text/plain": [
       "      상권코드명      유동인구   직장인구  집객시설  상주인구   점포수\n",
       "0  가로공원로58길  458550.0  97.25     4  2349  58.0"
      ]
     },
     "execution_count": 49,
     "metadata": {},
     "output_type": "execute_result"
    }
   ],
   "source": [
    "df = df.drop(columns = ['Unnamed: 0'])\n",
    "df.head(1)"
   ]
  },
  {
   "cell_type": "code",
   "execution_count": 8,
   "metadata": {},
   "outputs": [
    {
     "data": {
      "text/html": [
       "<div>\n",
       "<style scoped>\n",
       "    .dataframe tbody tr th:only-of-type {\n",
       "        vertical-align: middle;\n",
       "    }\n",
       "\n",
       "    .dataframe tbody tr th {\n",
       "        vertical-align: top;\n",
       "    }\n",
       "\n",
       "    .dataframe thead th {\n",
       "        text-align: right;\n",
       "    }\n",
       "</style>\n",
       "<table border=\"1\" class=\"dataframe\">\n",
       "  <thead>\n",
       "    <tr style=\"text-align: right;\">\n",
       "      <th></th>\n",
       "      <th>유동인구</th>\n",
       "      <th>직장인구</th>\n",
       "      <th>집객시설</th>\n",
       "      <th>상주인구</th>\n",
       "      <th>점포수</th>\n",
       "    </tr>\n",
       "  </thead>\n",
       "  <tbody>\n",
       "    <tr>\n",
       "      <th>count</th>\n",
       "      <td>1.448000e+03</td>\n",
       "      <td>1448.000000</td>\n",
       "      <td>1448.000000</td>\n",
       "      <td>1448.000000</td>\n",
       "      <td>1448.000000</td>\n",
       "    </tr>\n",
       "    <tr>\n",
       "      <th>mean</th>\n",
       "      <td>6.545517e+05</td>\n",
       "      <td>1669.648884</td>\n",
       "      <td>19.069061</td>\n",
       "      <td>2017.754144</td>\n",
       "      <td>267.612396</td>\n",
       "    </tr>\n",
       "    <tr>\n",
       "      <th>std</th>\n",
       "      <td>5.164341e+05</td>\n",
       "      <td>5680.883089</td>\n",
       "      <td>30.903612</td>\n",
       "      <td>1436.730915</td>\n",
       "      <td>532.944441</td>\n",
       "    </tr>\n",
       "    <tr>\n",
       "      <th>min</th>\n",
       "      <td>1.283575e+04</td>\n",
       "      <td>5.333333</td>\n",
       "      <td>1.000000</td>\n",
       "      <td>1.000000</td>\n",
       "      <td>4.000000</td>\n",
       "    </tr>\n",
       "    <tr>\n",
       "      <th>25%</th>\n",
       "      <td>3.383422e+05</td>\n",
       "      <td>149.375000</td>\n",
       "      <td>7.000000</td>\n",
       "      <td>859.250000</td>\n",
       "      <td>117.500000</td>\n",
       "    </tr>\n",
       "    <tr>\n",
       "      <th>50%</th>\n",
       "      <td>5.585785e+05</td>\n",
       "      <td>336.750000</td>\n",
       "      <td>12.000000</td>\n",
       "      <td>1865.500000</td>\n",
       "      <td>169.750000</td>\n",
       "    </tr>\n",
       "    <tr>\n",
       "      <th>75%</th>\n",
       "      <td>8.549784e+05</td>\n",
       "      <td>994.812500</td>\n",
       "      <td>20.000000</td>\n",
       "      <td>2932.750000</td>\n",
       "      <td>247.562500</td>\n",
       "    </tr>\n",
       "    <tr>\n",
       "      <th>max</th>\n",
       "      <td>6.378409e+06</td>\n",
       "      <td>136724.750000</td>\n",
       "      <td>593.000000</td>\n",
       "      <td>10755.000000</td>\n",
       "      <td>13428.750000</td>\n",
       "    </tr>\n",
       "  </tbody>\n",
       "</table>\n",
       "</div>"
      ],
      "text/plain": [
       "               유동인구           직장인구         집객시설          상주인구           점포수\n",
       "count  1.448000e+03    1448.000000  1448.000000   1448.000000   1448.000000\n",
       "mean   6.545517e+05    1669.648884    19.069061   2017.754144    267.612396\n",
       "std    5.164341e+05    5680.883089    30.903612   1436.730915    532.944441\n",
       "min    1.283575e+04       5.333333     1.000000      1.000000      4.000000\n",
       "25%    3.383422e+05     149.375000     7.000000    859.250000    117.500000\n",
       "50%    5.585785e+05     336.750000    12.000000   1865.500000    169.750000\n",
       "75%    8.549784e+05     994.812500    20.000000   2932.750000    247.562500\n",
       "max    6.378409e+06  136724.750000   593.000000  10755.000000  13428.750000"
      ]
     },
     "execution_count": 8,
     "metadata": {},
     "output_type": "execute_result"
    }
   ],
   "source": [
    "df.describe()"
   ]
  },
  {
   "cell_type": "code",
   "execution_count": null,
   "metadata": {},
   "outputs": [],
   "source": [
    "# 표준화를 할 때, string값이 들어가있는 컬럼이 있으면 에러가 남\n",
    "# 그래서 숫자로 되어있는 각 변수들만 가져옴!"
   ]
  },
  {
   "cell_type": "code",
   "execution_count": 36,
   "metadata": {},
   "outputs": [
    {
     "data": {
      "text/html": [
       "<div>\n",
       "<style scoped>\n",
       "    .dataframe tbody tr th:only-of-type {\n",
       "        vertical-align: middle;\n",
       "    }\n",
       "\n",
       "    .dataframe tbody tr th {\n",
       "        vertical-align: top;\n",
       "    }\n",
       "\n",
       "    .dataframe thead th {\n",
       "        text-align: right;\n",
       "    }\n",
       "</style>\n",
       "<table border=\"1\" class=\"dataframe\">\n",
       "  <thead>\n",
       "    <tr style=\"text-align: right;\">\n",
       "      <th></th>\n",
       "      <th>유동인구</th>\n",
       "      <th>직장인구</th>\n",
       "      <th>집객시설</th>\n",
       "      <th>상주인구</th>\n",
       "      <th>점포수</th>\n",
       "    </tr>\n",
       "  </thead>\n",
       "  <tbody>\n",
       "    <tr>\n",
       "      <th>0</th>\n",
       "      <td>458550.0</td>\n",
       "      <td>97.25</td>\n",
       "      <td>4</td>\n",
       "      <td>2349</td>\n",
       "      <td>58.0</td>\n",
       "    </tr>\n",
       "  </tbody>\n",
       "</table>\n",
       "</div>"
      ],
      "text/plain": [
       "       유동인구   직장인구  집객시설  상주인구   점포수\n",
       "0  458550.0  97.25     4  2349  58.0"
      ]
     },
     "execution_count": 36,
     "metadata": {},
     "output_type": "execute_result"
    }
   ],
   "source": [
    "df1 = df[['유동인구', '직장인구', '집객시설', '상주인구', '점포수']]\n",
    "df1.head(1)"
   ]
  },
  {
   "cell_type": "markdown",
   "metadata": {},
   "source": [
    "# Min-Max 스케일링"
   ]
  },
  {
   "cell_type": "code",
   "execution_count": 20,
   "metadata": {},
   "outputs": [],
   "source": [
    "from sklearn.preprocessing import MinMaxScaler\n",
    "\n",
    "mMscaler = MinMaxScaler()"
   ]
  },
  {
   "cell_type": "markdown",
   "metadata": {},
   "source": [
    "#### 회귀분석을 할 때처럼 fit을 먼저해주고 transform을 해줘야함\n",
    "* fit_transform을 해주면 위 두 과정을 한번에 해줄 수 있다"
   ]
  },
  {
   "cell_type": "code",
   "execution_count": 28,
   "metadata": {},
   "outputs": [
    {
     "data": {
      "text/html": [
       "<div>\n",
       "<style scoped>\n",
       "    .dataframe tbody tr th:only-of-type {\n",
       "        vertical-align: middle;\n",
       "    }\n",
       "\n",
       "    .dataframe tbody tr th {\n",
       "        vertical-align: top;\n",
       "    }\n",
       "\n",
       "    .dataframe thead th {\n",
       "        text-align: right;\n",
       "    }\n",
       "</style>\n",
       "<table border=\"1\" class=\"dataframe\">\n",
       "  <thead>\n",
       "    <tr style=\"text-align: right;\">\n",
       "      <th></th>\n",
       "      <th>유동인구</th>\n",
       "      <th>직장인구</th>\n",
       "      <th>집객시설</th>\n",
       "      <th>상주인구</th>\n",
       "      <th>점포수</th>\n",
       "    </tr>\n",
       "  </thead>\n",
       "  <tbody>\n",
       "    <tr>\n",
       "      <th>0</th>\n",
       "      <td>0.070020</td>\n",
       "      <td>0.000672</td>\n",
       "      <td>0.005068</td>\n",
       "      <td>0.218337</td>\n",
       "      <td>0.004022</td>\n",
       "    </tr>\n",
       "    <tr>\n",
       "      <th>1</th>\n",
       "      <td>0.096410</td>\n",
       "      <td>0.001285</td>\n",
       "      <td>0.013514</td>\n",
       "      <td>0.299423</td>\n",
       "      <td>0.008846</td>\n",
       "    </tr>\n",
       "    <tr>\n",
       "      <th>2</th>\n",
       "      <td>0.088230</td>\n",
       "      <td>0.002336</td>\n",
       "      <td>0.005068</td>\n",
       "      <td>0.267807</td>\n",
       "      <td>0.009721</td>\n",
       "    </tr>\n",
       "    <tr>\n",
       "      <th>3</th>\n",
       "      <td>0.023396</td>\n",
       "      <td>0.000029</td>\n",
       "      <td>0.001689</td>\n",
       "      <td>0.023712</td>\n",
       "      <td>0.008026</td>\n",
       "    </tr>\n",
       "    <tr>\n",
       "      <th>4</th>\n",
       "      <td>0.117148</td>\n",
       "      <td>0.000455</td>\n",
       "      <td>0.006757</td>\n",
       "      <td>0.177701</td>\n",
       "      <td>0.008119</td>\n",
       "    </tr>\n",
       "    <tr>\n",
       "      <th>...</th>\n",
       "      <td>...</td>\n",
       "      <td>...</td>\n",
       "      <td>...</td>\n",
       "      <td>...</td>\n",
       "      <td>...</td>\n",
       "    </tr>\n",
       "    <tr>\n",
       "      <th>1443</th>\n",
       "      <td>0.092498</td>\n",
       "      <td>0.001000</td>\n",
       "      <td>0.030405</td>\n",
       "      <td>0.121164</td>\n",
       "      <td>0.021621</td>\n",
       "    </tr>\n",
       "    <tr>\n",
       "      <th>1444</th>\n",
       "      <td>0.116312</td>\n",
       "      <td>0.001104</td>\n",
       "      <td>0.025338</td>\n",
       "      <td>0.241399</td>\n",
       "      <td>0.014097</td>\n",
       "    </tr>\n",
       "    <tr>\n",
       "      <th>1445</th>\n",
       "      <td>0.074049</td>\n",
       "      <td>0.000519</td>\n",
       "      <td>0.016892</td>\n",
       "      <td>0.060815</td>\n",
       "      <td>0.006183</td>\n",
       "    </tr>\n",
       "    <tr>\n",
       "      <th>1446</th>\n",
       "      <td>0.104895</td>\n",
       "      <td>0.000689</td>\n",
       "      <td>0.008446</td>\n",
       "      <td>0.188674</td>\n",
       "      <td>0.011080</td>\n",
       "    </tr>\n",
       "    <tr>\n",
       "      <th>1447</th>\n",
       "      <td>0.075408</td>\n",
       "      <td>0.000795</td>\n",
       "      <td>0.040541</td>\n",
       "      <td>0.098010</td>\n",
       "      <td>0.022012</td>\n",
       "    </tr>\n",
       "  </tbody>\n",
       "</table>\n",
       "<p>1448 rows × 5 columns</p>\n",
       "</div>"
      ],
      "text/plain": [
       "          유동인구      직장인구      집객시설      상주인구       점포수\n",
       "0     0.070020  0.000672  0.005068  0.218337  0.004022\n",
       "1     0.096410  0.001285  0.013514  0.299423  0.008846\n",
       "2     0.088230  0.002336  0.005068  0.267807  0.009721\n",
       "3     0.023396  0.000029  0.001689  0.023712  0.008026\n",
       "4     0.117148  0.000455  0.006757  0.177701  0.008119\n",
       "...        ...       ...       ...       ...       ...\n",
       "1443  0.092498  0.001000  0.030405  0.121164  0.021621\n",
       "1444  0.116312  0.001104  0.025338  0.241399  0.014097\n",
       "1445  0.074049  0.000519  0.016892  0.060815  0.006183\n",
       "1446  0.104895  0.000689  0.008446  0.188674  0.011080\n",
       "1447  0.075408  0.000795  0.040541  0.098010  0.022012\n",
       "\n",
       "[1448 rows x 5 columns]"
      ]
     },
     "execution_count": 28,
     "metadata": {},
     "output_type": "execute_result"
    }
   ],
   "source": [
    "normal = mMscaler.fit_transform(df1) # transform부터가 0-1으로 바꾸는 것\n",
    "normal = pd.DataFrame(normal, columns = df1.columns)\n",
    "normal"
   ]
  },
  {
   "cell_type": "code",
   "execution_count": 37,
   "metadata": {},
   "outputs": [
    {
     "data": {
      "text/html": [
       "<div>\n",
       "<style scoped>\n",
       "    .dataframe tbody tr th:only-of-type {\n",
       "        vertical-align: middle;\n",
       "    }\n",
       "\n",
       "    .dataframe tbody tr th {\n",
       "        vertical-align: top;\n",
       "    }\n",
       "\n",
       "    .dataframe thead th {\n",
       "        text-align: right;\n",
       "    }\n",
       "</style>\n",
       "<table border=\"1\" class=\"dataframe\">\n",
       "  <thead>\n",
       "    <tr style=\"text-align: right;\">\n",
       "      <th></th>\n",
       "      <th>유동인구</th>\n",
       "      <th>직장인구</th>\n",
       "      <th>집객시설</th>\n",
       "      <th>상주인구</th>\n",
       "      <th>점포수</th>\n",
       "    </tr>\n",
       "  </thead>\n",
       "  <tbody>\n",
       "    <tr>\n",
       "      <th>count</th>\n",
       "      <td>1448.000000</td>\n",
       "      <td>1448.000000</td>\n",
       "      <td>1448.000000</td>\n",
       "      <td>1448.000000</td>\n",
       "      <td>1448.000000</td>\n",
       "    </tr>\n",
       "    <tr>\n",
       "      <th>mean</th>\n",
       "      <td>0.100810</td>\n",
       "      <td>0.012173</td>\n",
       "      <td>0.030522</td>\n",
       "      <td>0.187535</td>\n",
       "      <td>0.019636</td>\n",
       "    </tr>\n",
       "    <tr>\n",
       "      <th>std</th>\n",
       "      <td>0.081129</td>\n",
       "      <td>0.041551</td>\n",
       "      <td>0.052202</td>\n",
       "      <td>0.133600</td>\n",
       "      <td>0.039699</td>\n",
       "    </tr>\n",
       "    <tr>\n",
       "      <th>min</th>\n",
       "      <td>0.000000</td>\n",
       "      <td>0.000000</td>\n",
       "      <td>0.000000</td>\n",
       "      <td>0.000000</td>\n",
       "      <td>0.000000</td>\n",
       "    </tr>\n",
       "    <tr>\n",
       "      <th>25%</th>\n",
       "      <td>0.051135</td>\n",
       "      <td>0.001054</td>\n",
       "      <td>0.010135</td>\n",
       "      <td>0.079808</td>\n",
       "      <td>0.008455</td>\n",
       "    </tr>\n",
       "    <tr>\n",
       "      <th>50%</th>\n",
       "      <td>0.085733</td>\n",
       "      <td>0.002424</td>\n",
       "      <td>0.018581</td>\n",
       "      <td>0.173377</td>\n",
       "      <td>0.012347</td>\n",
       "    </tr>\n",
       "    <tr>\n",
       "      <th>75%</th>\n",
       "      <td>0.132296</td>\n",
       "      <td>0.007237</td>\n",
       "      <td>0.032095</td>\n",
       "      <td>0.272619</td>\n",
       "      <td>0.018143</td>\n",
       "    </tr>\n",
       "    <tr>\n",
       "      <th>max</th>\n",
       "      <td>1.000000</td>\n",
       "      <td>1.000000</td>\n",
       "      <td>1.000000</td>\n",
       "      <td>1.000000</td>\n",
       "      <td>1.000000</td>\n",
       "    </tr>\n",
       "  </tbody>\n",
       "</table>\n",
       "</div>"
      ],
      "text/plain": [
       "              유동인구         직장인구         집객시설         상주인구          점포수\n",
       "count  1448.000000  1448.000000  1448.000000  1448.000000  1448.000000\n",
       "mean      0.100810     0.012173     0.030522     0.187535     0.019636\n",
       "std       0.081129     0.041551     0.052202     0.133600     0.039699\n",
       "min       0.000000     0.000000     0.000000     0.000000     0.000000\n",
       "25%       0.051135     0.001054     0.010135     0.079808     0.008455\n",
       "50%       0.085733     0.002424     0.018581     0.173377     0.012347\n",
       "75%       0.132296     0.007237     0.032095     0.272619     0.018143\n",
       "max       1.000000     1.000000     1.000000     1.000000     1.000000"
      ]
     },
     "execution_count": 37,
     "metadata": {},
     "output_type": "execute_result"
    }
   ],
   "source": [
    "normal.describe()"
   ]
  },
  {
   "cell_type": "markdown",
   "metadata": {},
   "source": [
    "# 정규분포로 scaling하기"
   ]
  },
  {
   "cell_type": "code",
   "execution_count": 38,
   "metadata": {},
   "outputs": [],
   "source": [
    "from sklearn.preprocessing import StandardScaler\n",
    "sdscaler = StandardScaler()"
   ]
  },
  {
   "cell_type": "code",
   "execution_count": 39,
   "metadata": {},
   "outputs": [
    {
     "data": {
      "text/plain": [
       "StandardScaler()"
      ]
     },
     "execution_count": 39,
     "metadata": {},
     "output_type": "execute_result"
    }
   ],
   "source": [
    "sdscaler.fit(df1)"
   ]
  },
  {
   "cell_type": "code",
   "execution_count": 40,
   "metadata": {},
   "outputs": [],
   "source": [
    "normal2 = sdscaler.transform(df1)"
   ]
  },
  {
   "cell_type": "code",
   "execution_count": 43,
   "metadata": {},
   "outputs": [
    {
     "data": {
      "text/html": [
       "<div>\n",
       "<style scoped>\n",
       "    .dataframe tbody tr th:only-of-type {\n",
       "        vertical-align: middle;\n",
       "    }\n",
       "\n",
       "    .dataframe tbody tr th {\n",
       "        vertical-align: top;\n",
       "    }\n",
       "\n",
       "    .dataframe thead th {\n",
       "        text-align: right;\n",
       "    }\n",
       "</style>\n",
       "<table border=\"1\" class=\"dataframe\">\n",
       "  <thead>\n",
       "    <tr style=\"text-align: right;\">\n",
       "      <th></th>\n",
       "      <th>유동인구</th>\n",
       "      <th>직장인구</th>\n",
       "      <th>집객시설</th>\n",
       "      <th>상주인구</th>\n",
       "      <th>점포수</th>\n",
       "    </tr>\n",
       "  </thead>\n",
       "  <tbody>\n",
       "    <tr>\n",
       "      <th>0</th>\n",
       "      <td>-0.379660</td>\n",
       "      <td>-0.276883</td>\n",
       "      <td>-0.487783</td>\n",
       "      <td>0.230635</td>\n",
       "      <td>-0.393446</td>\n",
       "    </tr>\n",
       "    <tr>\n",
       "      <th>1</th>\n",
       "      <td>-0.054264</td>\n",
       "      <td>-0.262136</td>\n",
       "      <td>-0.325934</td>\n",
       "      <td>0.837778</td>\n",
       "      <td>-0.271909</td>\n",
       "    </tr>\n",
       "    <tr>\n",
       "      <th>2</th>\n",
       "      <td>-0.155122</td>\n",
       "      <td>-0.236823</td>\n",
       "      <td>-0.487783</td>\n",
       "      <td>0.601048</td>\n",
       "      <td>-0.249854</td>\n",
       "    </tr>\n",
       "    <tr>\n",
       "      <th>3</th>\n",
       "      <td>-0.954543</td>\n",
       "      <td>-0.292365</td>\n",
       "      <td>-0.552523</td>\n",
       "      <td>-1.226648</td>\n",
       "      <td>-0.292556</td>\n",
       "    </tr>\n",
       "    <tr>\n",
       "      <th>4</th>\n",
       "      <td>0.201444</td>\n",
       "      <td>-0.282122</td>\n",
       "      <td>-0.455413</td>\n",
       "      <td>-0.073633</td>\n",
       "      <td>-0.290210</td>\n",
       "    </tr>\n",
       "    <tr>\n",
       "      <th>...</th>\n",
       "      <td>...</td>\n",
       "      <td>...</td>\n",
       "      <td>...</td>\n",
       "      <td>...</td>\n",
       "      <td>...</td>\n",
       "    </tr>\n",
       "    <tr>\n",
       "      <th>1443</th>\n",
       "      <td>-0.102489</td>\n",
       "      <td>-0.269003</td>\n",
       "      <td>-0.002235</td>\n",
       "      <td>-0.496962</td>\n",
       "      <td>0.049999</td>\n",
       "    </tr>\n",
       "    <tr>\n",
       "      <th>1444</th>\n",
       "      <td>0.191144</td>\n",
       "      <td>-0.266494</td>\n",
       "      <td>-0.099345</td>\n",
       "      <td>0.403309</td>\n",
       "      <td>-0.139579</td>\n",
       "    </tr>\n",
       "    <tr>\n",
       "      <th>1445</th>\n",
       "      <td>-0.329975</td>\n",
       "      <td>-0.280581</td>\n",
       "      <td>-0.261194</td>\n",
       "      <td>-0.948838</td>\n",
       "      <td>-0.339012</td>\n",
       "    </tr>\n",
       "    <tr>\n",
       "      <th>1446</th>\n",
       "      <td>0.050364</td>\n",
       "      <td>-0.276487</td>\n",
       "      <td>-0.423044</td>\n",
       "      <td>0.008526</td>\n",
       "      <td>-0.215599</td>\n",
       "    </tr>\n",
       "    <tr>\n",
       "      <th>1447</th>\n",
       "      <td>-0.313213</td>\n",
       "      <td>-0.273934</td>\n",
       "      <td>0.191984</td>\n",
       "      <td>-0.670332</td>\n",
       "      <td>0.059854</td>\n",
       "    </tr>\n",
       "  </tbody>\n",
       "</table>\n",
       "<p>1448 rows × 5 columns</p>\n",
       "</div>"
      ],
      "text/plain": [
       "          유동인구      직장인구      집객시설      상주인구       점포수\n",
       "0    -0.379660 -0.276883 -0.487783  0.230635 -0.393446\n",
       "1    -0.054264 -0.262136 -0.325934  0.837778 -0.271909\n",
       "2    -0.155122 -0.236823 -0.487783  0.601048 -0.249854\n",
       "3    -0.954543 -0.292365 -0.552523 -1.226648 -0.292556\n",
       "4     0.201444 -0.282122 -0.455413 -0.073633 -0.290210\n",
       "...        ...       ...       ...       ...       ...\n",
       "1443 -0.102489 -0.269003 -0.002235 -0.496962  0.049999\n",
       "1444  0.191144 -0.266494 -0.099345  0.403309 -0.139579\n",
       "1445 -0.329975 -0.280581 -0.261194 -0.948838 -0.339012\n",
       "1446  0.050364 -0.276487 -0.423044  0.008526 -0.215599\n",
       "1447 -0.313213 -0.273934  0.191984 -0.670332  0.059854\n",
       "\n",
       "[1448 rows x 5 columns]"
      ]
     },
     "execution_count": 43,
     "metadata": {},
     "output_type": "execute_result"
    }
   ],
   "source": [
    "normal2 = pd.DataFrame(normal2, columns = df1.columns)\n",
    "normal2"
   ]
  },
  {
   "cell_type": "code",
   "execution_count": 53,
   "metadata": {},
   "outputs": [
    {
     "data": {
      "text/html": [
       "<div>\n",
       "<style scoped>\n",
       "    .dataframe tbody tr th:only-of-type {\n",
       "        vertical-align: middle;\n",
       "    }\n",
       "\n",
       "    .dataframe tbody tr th {\n",
       "        vertical-align: top;\n",
       "    }\n",
       "\n",
       "    .dataframe thead th {\n",
       "        text-align: right;\n",
       "    }\n",
       "</style>\n",
       "<table border=\"1\" class=\"dataframe\">\n",
       "  <thead>\n",
       "    <tr style=\"text-align: right;\">\n",
       "      <th></th>\n",
       "      <th>level_0</th>\n",
       "      <th>index</th>\n",
       "      <th>유동인구</th>\n",
       "      <th>직장인구</th>\n",
       "      <th>집객시설</th>\n",
       "      <th>상주인구</th>\n",
       "      <th>점포수</th>\n",
       "    </tr>\n",
       "  </thead>\n",
       "  <tbody>\n",
       "    <tr>\n",
       "      <th>0</th>\n",
       "      <td>0</td>\n",
       "      <td>0</td>\n",
       "      <td>-0.37966</td>\n",
       "      <td>-0.276883</td>\n",
       "      <td>-0.487783</td>\n",
       "      <td>0.230635</td>\n",
       "      <td>-0.393446</td>\n",
       "    </tr>\n",
       "  </tbody>\n",
       "</table>\n",
       "</div>"
      ],
      "text/plain": [
       "   level_0  index     유동인구      직장인구      집객시설      상주인구       점포수\n",
       "0        0      0 -0.37966 -0.276883 -0.487783  0.230635 -0.393446"
      ]
     },
     "execution_count": 53,
     "metadata": {},
     "output_type": "execute_result"
    }
   ],
   "source": [
    "normal2 = normal2.reset_index()\n",
    "normal2.head(1)"
   ]
  },
  {
   "cell_type": "markdown",
   "metadata": {},
   "source": [
    "# 정규분포 스케일링+상권명 합치기"
   ]
  },
  {
   "cell_type": "code",
   "execution_count": 50,
   "metadata": {},
   "outputs": [
    {
     "data": {
      "text/html": [
       "<div>\n",
       "<style scoped>\n",
       "    .dataframe tbody tr th:only-of-type {\n",
       "        vertical-align: middle;\n",
       "    }\n",
       "\n",
       "    .dataframe tbody tr th {\n",
       "        vertical-align: top;\n",
       "    }\n",
       "\n",
       "    .dataframe thead th {\n",
       "        text-align: right;\n",
       "    }\n",
       "</style>\n",
       "<table border=\"1\" class=\"dataframe\">\n",
       "  <thead>\n",
       "    <tr style=\"text-align: right;\">\n",
       "      <th></th>\n",
       "      <th>상권코드명</th>\n",
       "    </tr>\n",
       "  </thead>\n",
       "  <tbody>\n",
       "    <tr>\n",
       "      <th>0</th>\n",
       "      <td>가로공원로58길</td>\n",
       "    </tr>\n",
       "  </tbody>\n",
       "</table>\n",
       "</div>"
      ],
      "text/plain": [
       "      상권코드명\n",
       "0  가로공원로58길"
      ]
     },
     "execution_count": 50,
     "metadata": {},
     "output_type": "execute_result"
    }
   ],
   "source": [
    "df2 = df[['상권코드명']]\n",
    "df2.head(1)"
   ]
  },
  {
   "cell_type": "code",
   "execution_count": 54,
   "metadata": {},
   "outputs": [
    {
     "data": {
      "text/html": [
       "<div>\n",
       "<style scoped>\n",
       "    .dataframe tbody tr th:only-of-type {\n",
       "        vertical-align: middle;\n",
       "    }\n",
       "\n",
       "    .dataframe tbody tr th {\n",
       "        vertical-align: top;\n",
       "    }\n",
       "\n",
       "    .dataframe thead th {\n",
       "        text-align: right;\n",
       "    }\n",
       "</style>\n",
       "<table border=\"1\" class=\"dataframe\">\n",
       "  <thead>\n",
       "    <tr style=\"text-align: right;\">\n",
       "      <th></th>\n",
       "      <th>index</th>\n",
       "      <th>상권코드명</th>\n",
       "    </tr>\n",
       "  </thead>\n",
       "  <tbody>\n",
       "    <tr>\n",
       "      <th>0</th>\n",
       "      <td>0</td>\n",
       "      <td>가로공원로58길</td>\n",
       "    </tr>\n",
       "    <tr>\n",
       "      <th>1</th>\n",
       "      <td>1</td>\n",
       "      <td>가로공원로76가길</td>\n",
       "    </tr>\n",
       "    <tr>\n",
       "      <th>2</th>\n",
       "      <td>2</td>\n",
       "      <td>가로공원로80길</td>\n",
       "    </tr>\n",
       "    <tr>\n",
       "      <th>3</th>\n",
       "      <td>3</td>\n",
       "      <td>가리봉시장</td>\n",
       "    </tr>\n",
       "    <tr>\n",
       "      <th>4</th>\n",
       "      <td>4</td>\n",
       "      <td>가마산로61길</td>\n",
       "    </tr>\n",
       "  </tbody>\n",
       "</table>\n",
       "</div>"
      ],
      "text/plain": [
       "   index      상권코드명\n",
       "0      0   가로공원로58길\n",
       "1      1  가로공원로76가길\n",
       "2      2   가로공원로80길\n",
       "3      3      가리봉시장\n",
       "4      4    가마산로61길"
      ]
     },
     "execution_count": 54,
     "metadata": {},
     "output_type": "execute_result"
    }
   ],
   "source": [
    "df2 = df2.reset_index()\n",
    "df2.head()"
   ]
  },
  {
   "cell_type": "code",
   "execution_count": 56,
   "metadata": {},
   "outputs": [
    {
     "data": {
      "text/html": [
       "<div>\n",
       "<style scoped>\n",
       "    .dataframe tbody tr th:only-of-type {\n",
       "        vertical-align: middle;\n",
       "    }\n",
       "\n",
       "    .dataframe tbody tr th {\n",
       "        vertical-align: top;\n",
       "    }\n",
       "\n",
       "    .dataframe thead th {\n",
       "        text-align: right;\n",
       "    }\n",
       "</style>\n",
       "<table border=\"1\" class=\"dataframe\">\n",
       "  <thead>\n",
       "    <tr style=\"text-align: right;\">\n",
       "      <th></th>\n",
       "      <th>index</th>\n",
       "      <th>상권코드명</th>\n",
       "      <th>level_0</th>\n",
       "      <th>유동인구</th>\n",
       "      <th>직장인구</th>\n",
       "      <th>집객시설</th>\n",
       "      <th>상주인구</th>\n",
       "      <th>점포수</th>\n",
       "    </tr>\n",
       "  </thead>\n",
       "  <tbody>\n",
       "    <tr>\n",
       "      <th>0</th>\n",
       "      <td>0</td>\n",
       "      <td>가로공원로58길</td>\n",
       "      <td>0</td>\n",
       "      <td>-0.379660</td>\n",
       "      <td>-0.276883</td>\n",
       "      <td>-0.487783</td>\n",
       "      <td>0.230635</td>\n",
       "      <td>-0.393446</td>\n",
       "    </tr>\n",
       "    <tr>\n",
       "      <th>1</th>\n",
       "      <td>1</td>\n",
       "      <td>가로공원로76가길</td>\n",
       "      <td>1</td>\n",
       "      <td>-0.054264</td>\n",
       "      <td>-0.262136</td>\n",
       "      <td>-0.325934</td>\n",
       "      <td>0.837778</td>\n",
       "      <td>-0.271909</td>\n",
       "    </tr>\n",
       "    <tr>\n",
       "      <th>2</th>\n",
       "      <td>2</td>\n",
       "      <td>가로공원로80길</td>\n",
       "      <td>2</td>\n",
       "      <td>-0.155122</td>\n",
       "      <td>-0.236823</td>\n",
       "      <td>-0.487783</td>\n",
       "      <td>0.601048</td>\n",
       "      <td>-0.249854</td>\n",
       "    </tr>\n",
       "    <tr>\n",
       "      <th>3</th>\n",
       "      <td>3</td>\n",
       "      <td>가리봉시장</td>\n",
       "      <td>3</td>\n",
       "      <td>-0.954543</td>\n",
       "      <td>-0.292365</td>\n",
       "      <td>-0.552523</td>\n",
       "      <td>-1.226648</td>\n",
       "      <td>-0.292556</td>\n",
       "    </tr>\n",
       "    <tr>\n",
       "      <th>4</th>\n",
       "      <td>4</td>\n",
       "      <td>가마산로61길</td>\n",
       "      <td>4</td>\n",
       "      <td>0.201444</td>\n",
       "      <td>-0.282122</td>\n",
       "      <td>-0.455413</td>\n",
       "      <td>-0.073633</td>\n",
       "      <td>-0.290210</td>\n",
       "    </tr>\n",
       "    <tr>\n",
       "      <th>...</th>\n",
       "      <td>...</td>\n",
       "      <td>...</td>\n",
       "      <td>...</td>\n",
       "      <td>...</td>\n",
       "      <td>...</td>\n",
       "      <td>...</td>\n",
       "      <td>...</td>\n",
       "      <td>...</td>\n",
       "    </tr>\n",
       "    <tr>\n",
       "      <th>1443</th>\n",
       "      <td>1443</td>\n",
       "      <td>휘경로2길</td>\n",
       "      <td>1443</td>\n",
       "      <td>-0.102489</td>\n",
       "      <td>-0.269003</td>\n",
       "      <td>-0.002235</td>\n",
       "      <td>-0.496962</td>\n",
       "      <td>0.049999</td>\n",
       "    </tr>\n",
       "    <tr>\n",
       "      <th>1444</th>\n",
       "      <td>1444</td>\n",
       "      <td>휘경로3길</td>\n",
       "      <td>1444</td>\n",
       "      <td>0.191144</td>\n",
       "      <td>-0.266494</td>\n",
       "      <td>-0.099345</td>\n",
       "      <td>0.403309</td>\n",
       "      <td>-0.139579</td>\n",
       "    </tr>\n",
       "    <tr>\n",
       "      <th>1445</th>\n",
       "      <td>1445</td>\n",
       "      <td>흑석로13길</td>\n",
       "      <td>1445</td>\n",
       "      <td>-0.329975</td>\n",
       "      <td>-0.280581</td>\n",
       "      <td>-0.261194</td>\n",
       "      <td>-0.948838</td>\n",
       "      <td>-0.339012</td>\n",
       "    </tr>\n",
       "    <tr>\n",
       "      <th>1446</th>\n",
       "      <td>1446</td>\n",
       "      <td>흑석로9길</td>\n",
       "      <td>1446</td>\n",
       "      <td>0.050364</td>\n",
       "      <td>-0.276487</td>\n",
       "      <td>-0.423044</td>\n",
       "      <td>0.008526</td>\n",
       "      <td>-0.215599</td>\n",
       "    </tr>\n",
       "    <tr>\n",
       "      <th>1447</th>\n",
       "      <td>1447</td>\n",
       "      <td>흑석시장</td>\n",
       "      <td>1447</td>\n",
       "      <td>-0.313213</td>\n",
       "      <td>-0.273934</td>\n",
       "      <td>0.191984</td>\n",
       "      <td>-0.670332</td>\n",
       "      <td>0.059854</td>\n",
       "    </tr>\n",
       "  </tbody>\n",
       "</table>\n",
       "<p>1448 rows × 8 columns</p>\n",
       "</div>"
      ],
      "text/plain": [
       "      index      상권코드명  level_0      유동인구      직장인구      집객시설      상주인구  \\\n",
       "0         0   가로공원로58길        0 -0.379660 -0.276883 -0.487783  0.230635   \n",
       "1         1  가로공원로76가길        1 -0.054264 -0.262136 -0.325934  0.837778   \n",
       "2         2   가로공원로80길        2 -0.155122 -0.236823 -0.487783  0.601048   \n",
       "3         3      가리봉시장        3 -0.954543 -0.292365 -0.552523 -1.226648   \n",
       "4         4    가마산로61길        4  0.201444 -0.282122 -0.455413 -0.073633   \n",
       "...     ...        ...      ...       ...       ...       ...       ...   \n",
       "1443   1443      휘경로2길     1443 -0.102489 -0.269003 -0.002235 -0.496962   \n",
       "1444   1444      휘경로3길     1444  0.191144 -0.266494 -0.099345  0.403309   \n",
       "1445   1445     흑석로13길     1445 -0.329975 -0.280581 -0.261194 -0.948838   \n",
       "1446   1446      흑석로9길     1446  0.050364 -0.276487 -0.423044  0.008526   \n",
       "1447   1447       흑석시장     1447 -0.313213 -0.273934  0.191984 -0.670332   \n",
       "\n",
       "           점포수  \n",
       "0    -0.393446  \n",
       "1    -0.271909  \n",
       "2    -0.249854  \n",
       "3    -0.292556  \n",
       "4    -0.290210  \n",
       "...        ...  \n",
       "1443  0.049999  \n",
       "1444 -0.139579  \n",
       "1445 -0.339012  \n",
       "1446 -0.215599  \n",
       "1447  0.059854  \n",
       "\n",
       "[1448 rows x 8 columns]"
      ]
     },
     "execution_count": 56,
     "metadata": {},
     "output_type": "execute_result"
    }
   ],
   "source": [
    "normal_dist = pd.merge(df2, normal2, how = 'inner', on ='index')\n",
    "normal_dist"
   ]
  },
  {
   "cell_type": "code",
   "execution_count": 59,
   "metadata": {},
   "outputs": [],
   "source": [
    "del normal_dist['index']"
   ]
  },
  {
   "cell_type": "code",
   "execution_count": 60,
   "metadata": {},
   "outputs": [],
   "source": [
    "del normal_dist['level_0']"
   ]
  },
  {
   "cell_type": "code",
   "execution_count": 66,
   "metadata": {},
   "outputs": [
    {
     "data": {
      "text/plain": [
       "(1448, 6)"
      ]
     },
     "execution_count": 66,
     "metadata": {},
     "output_type": "execute_result"
    }
   ],
   "source": [
    "normal_dist.head(1)\n",
    "normal_dist.shape"
   ]
  },
  {
   "cell_type": "code",
   "execution_count": 62,
   "metadata": {},
   "outputs": [],
   "source": [
    "normal_dist.to_excel('정규분포_표준화_유동,직장,집객,상주,점포.xlsx')"
   ]
  },
  {
   "cell_type": "markdown",
   "metadata": {},
   "source": [
    "# 클러스터링 시도!\n",
    "* K-means는 군집별 평균을 활용한다\n",
    "* 실루엣은 evaluation metrics"
   ]
  },
  {
   "cell_type": "code",
   "execution_count": 67,
   "metadata": {},
   "outputs": [
    {
     "data": {
      "text/plain": [
       "(1448, 6)"
      ]
     },
     "execution_count": 67,
     "metadata": {},
     "output_type": "execute_result"
    }
   ],
   "source": [
    "normal_dist.shape"
   ]
  },
  {
   "cell_type": "code",
   "execution_count": 69,
   "metadata": {},
   "outputs": [
    {
     "data": {
      "text/html": [
       "<div>\n",
       "<style scoped>\n",
       "    .dataframe tbody tr th:only-of-type {\n",
       "        vertical-align: middle;\n",
       "    }\n",
       "\n",
       "    .dataframe tbody tr th {\n",
       "        vertical-align: top;\n",
       "    }\n",
       "\n",
       "    .dataframe thead th {\n",
       "        text-align: right;\n",
       "    }\n",
       "</style>\n",
       "<table border=\"1\" class=\"dataframe\">\n",
       "  <thead>\n",
       "    <tr style=\"text-align: right;\">\n",
       "      <th></th>\n",
       "      <th>유동인구</th>\n",
       "      <th>직장인구</th>\n",
       "      <th>집객시설</th>\n",
       "      <th>상주인구</th>\n",
       "      <th>점포수</th>\n",
       "    </tr>\n",
       "  </thead>\n",
       "  <tbody>\n",
       "    <tr>\n",
       "      <th>count</th>\n",
       "      <td>1.448000e+03</td>\n",
       "      <td>1.448000e+03</td>\n",
       "      <td>1.448000e+03</td>\n",
       "      <td>1.448000e+03</td>\n",
       "      <td>1.448000e+03</td>\n",
       "    </tr>\n",
       "    <tr>\n",
       "      <th>mean</th>\n",
       "      <td>-5.175418e-17</td>\n",
       "      <td>-7.628950e-18</td>\n",
       "      <td>-6.302509e-17</td>\n",
       "      <td>-5.995818e-17</td>\n",
       "      <td>-2.813415e-17</td>\n",
       "    </tr>\n",
       "    <tr>\n",
       "      <th>std</th>\n",
       "      <td>1.000345e+00</td>\n",
       "      <td>1.000345e+00</td>\n",
       "      <td>1.000345e+00</td>\n",
       "      <td>1.000345e+00</td>\n",
       "      <td>1.000345e+00</td>\n",
       "    </tr>\n",
       "    <tr>\n",
       "      <th>min</th>\n",
       "      <td>-1.243020e+00</td>\n",
       "      <td>-2.930690e-01</td>\n",
       "      <td>-5.848929e-01</td>\n",
       "      <td>-1.404195e+00</td>\n",
       "      <td>-4.948048e-01</td>\n",
       "    </tr>\n",
       "    <tr>\n",
       "      <th>25%</th>\n",
       "      <td>-6.125054e-01</td>\n",
       "      <td>-2.677047e-01</td>\n",
       "      <td>-3.906738e-01</td>\n",
       "      <td>-8.066259e-01</td>\n",
       "      <td>-2.817634e-01</td>\n",
       "    </tr>\n",
       "    <tr>\n",
       "      <th>50%</th>\n",
       "      <td>-1.859024e-01</td>\n",
       "      <td>-2.347099e-01</td>\n",
       "      <td>-2.288245e-01</td>\n",
       "      <td>-1.060092e-01</td>\n",
       "      <td>-1.836893e-01</td>\n",
       "    </tr>\n",
       "    <tr>\n",
       "      <th>75%</th>\n",
       "      <td>3.882314e-01</td>\n",
       "      <td>-1.188318e-01</td>\n",
       "      <td>3.013437e-02</td>\n",
       "      <td>6.370796e-01</td>\n",
       "      <td>-3.763399e-02</td>\n",
       "    </tr>\n",
       "    <tr>\n",
       "      <th>max</th>\n",
       "      <td>1.108725e+01</td>\n",
       "      <td>2.378182e+01</td>\n",
       "      <td>1.857806e+01</td>\n",
       "      <td>6.083439e+00</td>\n",
       "      <td>2.470367e+01</td>\n",
       "    </tr>\n",
       "  </tbody>\n",
       "</table>\n",
       "</div>"
      ],
      "text/plain": [
       "               유동인구          직장인구          집객시설          상주인구           점포수\n",
       "count  1.448000e+03  1.448000e+03  1.448000e+03  1.448000e+03  1.448000e+03\n",
       "mean  -5.175418e-17 -7.628950e-18 -6.302509e-17 -5.995818e-17 -2.813415e-17\n",
       "std    1.000345e+00  1.000345e+00  1.000345e+00  1.000345e+00  1.000345e+00\n",
       "min   -1.243020e+00 -2.930690e-01 -5.848929e-01 -1.404195e+00 -4.948048e-01\n",
       "25%   -6.125054e-01 -2.677047e-01 -3.906738e-01 -8.066259e-01 -2.817634e-01\n",
       "50%   -1.859024e-01 -2.347099e-01 -2.288245e-01 -1.060092e-01 -1.836893e-01\n",
       "75%    3.882314e-01 -1.188318e-01  3.013437e-02  6.370796e-01 -3.763399e-02\n",
       "max    1.108725e+01  2.378182e+01  1.857806e+01  6.083439e+00  2.470367e+01"
      ]
     },
     "execution_count": 69,
     "metadata": {},
     "output_type": "execute_result"
    }
   ],
   "source": [
    "normal_dist.describe()"
   ]
  },
  {
   "cell_type": "markdown",
   "metadata": {},
   "source": [
    "#### 5개 컬럼으로 이루어진 벡터는 우리가 눈으로 보기 어렵다. 따라서 2차원으로 변환해주는 과정 (=차원축소)이 필요한데 그게 바로 PCA. \n",
    "* 문제는 여기서 상권명이 들어가있어서 자꾸 오류가 난다. 그래서 normal2인 표준화한 raw값만 들어있는 df을 활용해줬음"
   ]
  },
  {
   "cell_type": "code",
   "execution_count": 75,
   "metadata": {},
   "outputs": [],
   "source": [
    "from sklearn.decomposition import PCA\n",
    "pca = PCA(n_components=2)\n",
    "data = pca.fit_transform(normal2)"
   ]
  },
  {
   "cell_type": "code",
   "execution_count": 76,
   "metadata": {},
   "outputs": [
    {
     "data": {
      "text/plain": [
       "(1448, 2)"
      ]
     },
     "execution_count": 76,
     "metadata": {},
     "output_type": "execute_result"
    }
   ],
   "source": [
    "data.shape"
   ]
  },
  {
   "cell_type": "markdown",
   "metadata": {},
   "source": [
    "#### k-means++이 뭔지 알아봐야함"
   ]
  },
  {
   "cell_type": "code",
   "execution_count": 89,
   "metadata": {},
   "outputs": [],
   "source": [
    "from sklearn.cluster import KMeans\n",
    "kmeans = KMeans(n_clusters=3)"
   ]
  },
  {
   "cell_type": "code",
   "execution_count": 90,
   "metadata": {},
   "outputs": [
    {
     "data": {
      "text/plain": [
       "KMeans(n_clusters=3)"
      ]
     },
     "execution_count": 90,
     "metadata": {},
     "output_type": "execute_result"
    }
   ],
   "source": [
    "kmeans.fit(data) #학습완료"
   ]
  },
  {
   "cell_type": "code",
   "execution_count": 108,
   "metadata": {},
   "outputs": [
    {
     "data": {
      "text/html": [
       "<div>\n",
       "<style scoped>\n",
       "    .dataframe tbody tr th:only-of-type {\n",
       "        vertical-align: middle;\n",
       "    }\n",
       "\n",
       "    .dataframe tbody tr th {\n",
       "        vertical-align: top;\n",
       "    }\n",
       "\n",
       "    .dataframe thead th {\n",
       "        text-align: right;\n",
       "    }\n",
       "</style>\n",
       "<table border=\"1\" class=\"dataframe\">\n",
       "  <thead>\n",
       "    <tr style=\"text-align: right;\">\n",
       "      <th></th>\n",
       "      <th>cluster</th>\n",
       "    </tr>\n",
       "  </thead>\n",
       "  <tbody>\n",
       "    <tr>\n",
       "      <th>0</th>\n",
       "      <td>1</td>\n",
       "    </tr>\n",
       "    <tr>\n",
       "      <th>1</th>\n",
       "      <td>1</td>\n",
       "    </tr>\n",
       "    <tr>\n",
       "      <th>2</th>\n",
       "      <td>1</td>\n",
       "    </tr>\n",
       "    <tr>\n",
       "      <th>3</th>\n",
       "      <td>1</td>\n",
       "    </tr>\n",
       "    <tr>\n",
       "      <th>4</th>\n",
       "      <td>1</td>\n",
       "    </tr>\n",
       "  </tbody>\n",
       "</table>\n",
       "</div>"
      ],
      "text/plain": [
       "   cluster\n",
       "0        1\n",
       "1        1\n",
       "2        1\n",
       "3        1\n",
       "4        1"
      ]
     },
     "execution_count": 108,
     "metadata": {},
     "output_type": "execute_result"
    }
   ],
   "source": [
    "cluster = kmeans.predict(data)# 각 클러스터 번호를 반환해줌\n",
    "df_cl = pd.DataFrame(cluster, columns =['cluster'])\n",
    "df_cl.reset_index()\n",
    "df_cl.head()"
   ]
  },
  {
   "cell_type": "code",
   "execution_count": 116,
   "metadata": {},
   "outputs": [],
   "source": [
    "clustering= clustering.drop(columns = ['index'])"
   ]
  },
  {
   "cell_type": "code",
   "execution_count": 120,
   "metadata": {},
   "outputs": [],
   "source": [
    "clustering = pd.concat([df_cl, df2], axis = 1)\n",
    "clustering.tail(1)\n",
    "clustering = clustering.drop(columns= ['index'])"
   ]
  },
  {
   "cell_type": "code",
   "execution_count": 125,
   "metadata": {},
   "outputs": [
    {
     "data": {
      "text/html": [
       "<div>\n",
       "<style scoped>\n",
       "    .dataframe tbody tr th:only-of-type {\n",
       "        vertical-align: middle;\n",
       "    }\n",
       "\n",
       "    .dataframe tbody tr th {\n",
       "        vertical-align: top;\n",
       "    }\n",
       "\n",
       "    .dataframe thead th {\n",
       "        text-align: right;\n",
       "    }\n",
       "</style>\n",
       "<table border=\"1\" class=\"dataframe\">\n",
       "  <thead>\n",
       "    <tr style=\"text-align: right;\">\n",
       "      <th></th>\n",
       "      <th>cluster</th>\n",
       "      <th>상권코드명</th>\n",
       "      <th>유동인구</th>\n",
       "      <th>직장인구</th>\n",
       "      <th>집객시설</th>\n",
       "      <th>상주인구</th>\n",
       "      <th>점포수</th>\n",
       "    </tr>\n",
       "  </thead>\n",
       "  <tbody>\n",
       "    <tr>\n",
       "      <th>0</th>\n",
       "      <td>1</td>\n",
       "      <td>가로공원로58길</td>\n",
       "      <td>458550.0</td>\n",
       "      <td>97.25</td>\n",
       "      <td>4</td>\n",
       "      <td>2349</td>\n",
       "      <td>58.0</td>\n",
       "    </tr>\n",
       "  </tbody>\n",
       "</table>\n",
       "</div>"
      ],
      "text/plain": [
       "   cluster     상권코드명      유동인구   직장인구  집객시설  상주인구   점포수\n",
       "0        1  가로공원로58길  458550.0  97.25     4  2349  58.0"
      ]
     },
     "execution_count": 125,
     "metadata": {},
     "output_type": "execute_result"
    }
   ],
   "source": [
    "clustering = pd.merge(clustering, df, how ='inner', on = '상권코드명')\n",
    "clustering.head(1)"
   ]
  },
  {
   "cell_type": "code",
   "execution_count": 131,
   "metadata": {},
   "outputs": [],
   "source": [
    "clustering.to_excel('클러스터링 첫 시도.xlsx')"
   ]
  },
  {
   "cell_type": "markdown",
   "metadata": {},
   "source": [
    "#### 얘야 이게 무슨일이니..ㅠㅠ 왜 이렇게 나와 ㅠㅠ"
   ]
  },
  {
   "cell_type": "code",
   "execution_count": 99,
   "metadata": {},
   "outputs": [
    {
     "data": {
      "image/png": "[encoded data removed]",
      "text/plain": [
       "<Figure size 432x288 with 1 Axes>"
      ]
     },
     "metadata": {
      "needs_background": "light"
     },
     "output_type": "display_data"
    }
   ],
   "source": [
    "plt.scatter(data[:,0], data[:, 1], c=cluster, linewidth=1, edgecolor='black')\n",
    "plt.show()"
   ]
  },
  {
   "cell_type": "code",
   "execution_count": null,
   "metadata": {},
   "outputs": [],
   "source": []
  }
 ],
 "metadata": {
  "kernelspec": {
   "display_name": "Python 3",
   "language": "python",
   "name": "python3"
  },
  "language_info": {
   "codemirror_mode": {
    "name": "ipython",
    "version": 3
   },
   "file_extension": ".py",
   "mimetype": "text/x-python",
   "name": "python",
   "nbconvert_exporter": "python",
   "pygments_lexer": "ipython3",
   "version": "3.8.3"
  }
 },
 "nbformat": 4,
 "nbformat_minor": 4
}

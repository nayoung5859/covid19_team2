{
 "cells": [
  {
   "cell_type": "markdown",
   "metadata": {},
   "source": [
    "## 실습 데이터 불러오기"
   ]
  },
  {
   "cell_type": "code",
   "execution_count": 1,
   "metadata": {},
   "outputs": [],
   "source": [
    "# 실습용 라이브러리 로딩\n",
    "\n",
    "import os\n",
    "from os.path import join\n",
    "import copy\n",
    "import warnings\n",
    "warnings.filterwarnings('ignore')\n",
    "\n",
    "import numpy as np\n",
    "import pandas as pd\n",
    "\n",
    "import sklearn\n",
    "import matplotlib.pyplot as plt"
   ]
  },
  {
   "cell_type": "code",
   "execution_count": 2,
   "metadata": {},
   "outputs": [],
   "source": [
    "# 정규분포로 처리한 데이터 로드하자\n",
    "\n",
    "data = pd.read_excel('norm_data.xlsx')"
   ]
  },
  {
   "cell_type": "code",
   "execution_count": 3,
   "metadata": {},
   "outputs": [],
   "source": [
    "# float 형태의 데이터만 있어야 아래 실루엣 점수나 엘보우 포인트가 가능한 것 같다\n",
    "# 그래서 상권코드명은 나중에 테이블을 합쳐주는걸로 해야겠다. \n",
    "\n",
    "data = data[['유동인구','직장인구','집객시설','상주인구','점포수']]"
   ]
  },
  {
   "cell_type": "code",
   "execution_count": 4,
   "metadata": {},
   "outputs": [
    {
     "data": {
      "text/html": [
       "<div>\n",
       "<style scoped>\n",
       "    .dataframe tbody tr th:only-of-type {\n",
       "        vertical-align: middle;\n",
       "    }\n",
       "\n",
       "    .dataframe tbody tr th {\n",
       "        vertical-align: top;\n",
       "    }\n",
       "\n",
       "    .dataframe thead th {\n",
       "        text-align: right;\n",
       "    }\n",
       "</style>\n",
       "<table border=\"1\" class=\"dataframe\">\n",
       "  <thead>\n",
       "    <tr style=\"text-align: right;\">\n",
       "      <th></th>\n",
       "      <th>유동인구</th>\n",
       "      <th>직장인구</th>\n",
       "      <th>집객시설</th>\n",
       "      <th>상주인구</th>\n",
       "      <th>점포수</th>\n",
       "    </tr>\n",
       "  </thead>\n",
       "  <tbody>\n",
       "    <tr>\n",
       "      <th>0</th>\n",
       "      <td>-0.379660</td>\n",
       "      <td>-0.276883</td>\n",
       "      <td>-0.487783</td>\n",
       "      <td>0.230635</td>\n",
       "      <td>-0.393446</td>\n",
       "    </tr>\n",
       "    <tr>\n",
       "      <th>1</th>\n",
       "      <td>-0.054264</td>\n",
       "      <td>-0.262136</td>\n",
       "      <td>-0.325934</td>\n",
       "      <td>0.837778</td>\n",
       "      <td>-0.271909</td>\n",
       "    </tr>\n",
       "    <tr>\n",
       "      <th>2</th>\n",
       "      <td>-0.155122</td>\n",
       "      <td>-0.236823</td>\n",
       "      <td>-0.487783</td>\n",
       "      <td>0.601048</td>\n",
       "      <td>-0.249854</td>\n",
       "    </tr>\n",
       "    <tr>\n",
       "      <th>3</th>\n",
       "      <td>-0.954543</td>\n",
       "      <td>-0.292365</td>\n",
       "      <td>-0.552523</td>\n",
       "      <td>-1.226648</td>\n",
       "      <td>-0.292556</td>\n",
       "    </tr>\n",
       "    <tr>\n",
       "      <th>4</th>\n",
       "      <td>0.201444</td>\n",
       "      <td>-0.282122</td>\n",
       "      <td>-0.455413</td>\n",
       "      <td>-0.073633</td>\n",
       "      <td>-0.290210</td>\n",
       "    </tr>\n",
       "    <tr>\n",
       "      <th>...</th>\n",
       "      <td>...</td>\n",
       "      <td>...</td>\n",
       "      <td>...</td>\n",
       "      <td>...</td>\n",
       "      <td>...</td>\n",
       "    </tr>\n",
       "    <tr>\n",
       "      <th>1443</th>\n",
       "      <td>-0.102489</td>\n",
       "      <td>-0.269003</td>\n",
       "      <td>-0.002235</td>\n",
       "      <td>-0.496962</td>\n",
       "      <td>0.049999</td>\n",
       "    </tr>\n",
       "    <tr>\n",
       "      <th>1444</th>\n",
       "      <td>0.191144</td>\n",
       "      <td>-0.266494</td>\n",
       "      <td>-0.099345</td>\n",
       "      <td>0.403309</td>\n",
       "      <td>-0.139579</td>\n",
       "    </tr>\n",
       "    <tr>\n",
       "      <th>1445</th>\n",
       "      <td>-0.329975</td>\n",
       "      <td>-0.280581</td>\n",
       "      <td>-0.261194</td>\n",
       "      <td>-0.948838</td>\n",
       "      <td>-0.339012</td>\n",
       "    </tr>\n",
       "    <tr>\n",
       "      <th>1446</th>\n",
       "      <td>0.050364</td>\n",
       "      <td>-0.276487</td>\n",
       "      <td>-0.423044</td>\n",
       "      <td>0.008526</td>\n",
       "      <td>-0.215599</td>\n",
       "    </tr>\n",
       "    <tr>\n",
       "      <th>1447</th>\n",
       "      <td>-0.313213</td>\n",
       "      <td>-0.273934</td>\n",
       "      <td>0.191984</td>\n",
       "      <td>-0.670332</td>\n",
       "      <td>0.059854</td>\n",
       "    </tr>\n",
       "  </tbody>\n",
       "</table>\n",
       "<p>1448 rows × 5 columns</p>\n",
       "</div>"
      ],
      "text/plain": [
       "          유동인구      직장인구      집객시설      상주인구       점포수\n",
       "0    -0.379660 -0.276883 -0.487783  0.230635 -0.393446\n",
       "1    -0.054264 -0.262136 -0.325934  0.837778 -0.271909\n",
       "2    -0.155122 -0.236823 -0.487783  0.601048 -0.249854\n",
       "3    -0.954543 -0.292365 -0.552523 -1.226648 -0.292556\n",
       "4     0.201444 -0.282122 -0.455413 -0.073633 -0.290210\n",
       "...        ...       ...       ...       ...       ...\n",
       "1443 -0.102489 -0.269003 -0.002235 -0.496962  0.049999\n",
       "1444  0.191144 -0.266494 -0.099345  0.403309 -0.139579\n",
       "1445 -0.329975 -0.280581 -0.261194 -0.948838 -0.339012\n",
       "1446  0.050364 -0.276487 -0.423044  0.008526 -0.215599\n",
       "1447 -0.313213 -0.273934  0.191984 -0.670332  0.059854\n",
       "\n",
       "[1448 rows x 5 columns]"
      ]
     },
     "execution_count": 4,
     "metadata": {},
     "output_type": "execute_result"
    }
   ],
   "source": [
    "data"
   ]
  },
  {
   "cell_type": "code",
   "execution_count": 5,
   "metadata": {},
   "outputs": [
    {
     "data": {
      "text/plain": [
       "(1448, 5)"
      ]
     },
     "execution_count": 5,
     "metadata": {},
     "output_type": "execute_result"
    }
   ],
   "source": [
    "data.shape"
   ]
  },
  {
   "cell_type": "code",
   "execution_count": 6,
   "metadata": {},
   "outputs": [
    {
     "data": {
      "text/html": [
       "<div>\n",
       "<style scoped>\n",
       "    .dataframe tbody tr th:only-of-type {\n",
       "        vertical-align: middle;\n",
       "    }\n",
       "\n",
       "    .dataframe tbody tr th {\n",
       "        vertical-align: top;\n",
       "    }\n",
       "\n",
       "    .dataframe thead th {\n",
       "        text-align: right;\n",
       "    }\n",
       "</style>\n",
       "<table border=\"1\" class=\"dataframe\">\n",
       "  <thead>\n",
       "    <tr style=\"text-align: right;\">\n",
       "      <th></th>\n",
       "      <th>유동인구</th>\n",
       "      <th>직장인구</th>\n",
       "      <th>집객시설</th>\n",
       "      <th>상주인구</th>\n",
       "      <th>점포수</th>\n",
       "    </tr>\n",
       "  </thead>\n",
       "  <tbody>\n",
       "    <tr>\n",
       "      <th>count</th>\n",
       "      <td>1.448000e+03</td>\n",
       "      <td>1.448000e+03</td>\n",
       "      <td>1.448000e+03</td>\n",
       "      <td>1.448000e+03</td>\n",
       "      <td>1.448000e+03</td>\n",
       "    </tr>\n",
       "    <tr>\n",
       "      <th>mean</th>\n",
       "      <td>-5.984317e-17</td>\n",
       "      <td>-1.004414e-17</td>\n",
       "      <td>-5.934479e-17</td>\n",
       "      <td>-8.265334e-17</td>\n",
       "      <td>-3.399962e-17</td>\n",
       "    </tr>\n",
       "    <tr>\n",
       "      <th>std</th>\n",
       "      <td>1.000345e+00</td>\n",
       "      <td>1.000345e+00</td>\n",
       "      <td>1.000345e+00</td>\n",
       "      <td>1.000345e+00</td>\n",
       "      <td>1.000345e+00</td>\n",
       "    </tr>\n",
       "    <tr>\n",
       "      <th>min</th>\n",
       "      <td>-1.243020e+00</td>\n",
       "      <td>-2.930690e-01</td>\n",
       "      <td>-5.848929e-01</td>\n",
       "      <td>-1.404195e+00</td>\n",
       "      <td>-4.948048e-01</td>\n",
       "    </tr>\n",
       "    <tr>\n",
       "      <th>25%</th>\n",
       "      <td>-6.125054e-01</td>\n",
       "      <td>-2.677047e-01</td>\n",
       "      <td>-3.906738e-01</td>\n",
       "      <td>-8.066259e-01</td>\n",
       "      <td>-2.817634e-01</td>\n",
       "    </tr>\n",
       "    <tr>\n",
       "      <th>50%</th>\n",
       "      <td>-1.859024e-01</td>\n",
       "      <td>-2.347099e-01</td>\n",
       "      <td>-2.288245e-01</td>\n",
       "      <td>-1.060092e-01</td>\n",
       "      <td>-1.836893e-01</td>\n",
       "    </tr>\n",
       "    <tr>\n",
       "      <th>75%</th>\n",
       "      <td>3.882314e-01</td>\n",
       "      <td>-1.188318e-01</td>\n",
       "      <td>3.013437e-02</td>\n",
       "      <td>6.370796e-01</td>\n",
       "      <td>-3.763399e-02</td>\n",
       "    </tr>\n",
       "    <tr>\n",
       "      <th>max</th>\n",
       "      <td>1.108725e+01</td>\n",
       "      <td>2.378182e+01</td>\n",
       "      <td>1.857806e+01</td>\n",
       "      <td>6.083439e+00</td>\n",
       "      <td>2.470367e+01</td>\n",
       "    </tr>\n",
       "  </tbody>\n",
       "</table>\n",
       "</div>"
      ],
      "text/plain": [
       "               유동인구          직장인구          집객시설          상주인구           점포수\n",
       "count  1.448000e+03  1.448000e+03  1.448000e+03  1.448000e+03  1.448000e+03\n",
       "mean  -5.984317e-17 -1.004414e-17 -5.934479e-17 -8.265334e-17 -3.399962e-17\n",
       "std    1.000345e+00  1.000345e+00  1.000345e+00  1.000345e+00  1.000345e+00\n",
       "min   -1.243020e+00 -2.930690e-01 -5.848929e-01 -1.404195e+00 -4.948048e-01\n",
       "25%   -6.125054e-01 -2.677047e-01 -3.906738e-01 -8.066259e-01 -2.817634e-01\n",
       "50%   -1.859024e-01 -2.347099e-01 -2.288245e-01 -1.060092e-01 -1.836893e-01\n",
       "75%    3.882314e-01 -1.188318e-01  3.013437e-02  6.370796e-01 -3.763399e-02\n",
       "max    1.108725e+01  2.378182e+01  1.857806e+01  6.083439e+00  2.470367e+01"
      ]
     },
     "execution_count": 6,
     "metadata": {},
     "output_type": "execute_result"
    }
   ],
   "source": [
    "data.describe()"
   ]
  },
  {
   "cell_type": "code",
   "execution_count": 7,
   "metadata": {},
   "outputs": [
    {
     "name": "stdout",
     "output_type": "stream",
     "text": [
      "<class 'pandas.core.frame.DataFrame'>\n",
      "RangeIndex: 1448 entries, 0 to 1447\n",
      "Data columns (total 5 columns):\n",
      " #   Column  Non-Null Count  Dtype  \n",
      "---  ------  --------------  -----  \n",
      " 0   유동인구    1448 non-null   float64\n",
      " 1   직장인구    1448 non-null   float64\n",
      " 2   집객시설    1448 non-null   float64\n",
      " 3   상주인구    1448 non-null   float64\n",
      " 4   점포수     1448 non-null   float64\n",
      "dtypes: float64(5)\n",
      "memory usage: 56.7 KB\n"
     ]
    }
   ],
   "source": [
    "data.info()"
   ]
  },
  {
   "cell_type": "markdown",
   "metadata": {},
   "source": [
    "## 클러스터링"
   ]
  },
  {
   "cell_type": "code",
   "execution_count": 8,
   "metadata": {},
   "outputs": [],
   "source": [
    "# 일단 사이킷런의 KMeans 를 불러옴\n",
    "# n_clusters 부분에 클러스터 갯수를 작성하면 된다\n",
    "\n",
    "from sklearn.cluster import KMeans\n",
    "kmeans = KMeans(n_clusters=3)"
   ]
  },
  {
   "cell_type": "code",
   "execution_count": 9,
   "metadata": {},
   "outputs": [
    {
     "data": {
      "text/plain": [
       "KMeans(n_clusters=3)"
      ]
     },
     "execution_count": 9,
     "metadata": {},
     "output_type": "execute_result"
    }
   ],
   "source": [
    "kmeans.fit(data)"
   ]
  },
  {
   "cell_type": "code",
   "execution_count": 10,
   "metadata": {},
   "outputs": [],
   "source": [
    "cluster = kmeans.predict(data)"
   ]
  },
  {
   "cell_type": "code",
   "execution_count": 11,
   "metadata": {},
   "outputs": [
    {
     "data": {
      "text/plain": [
       "array([1, 0, 0, ..., 1, 1, 1])"
      ]
     },
     "execution_count": 11,
     "metadata": {},
     "output_type": "execute_result"
    }
   ],
   "source": [
    "# 클러스터 나누기 완료. array 형태로 저장된다\n",
    "cluster"
   ]
  },
  {
   "cell_type": "code",
   "execution_count": 12,
   "metadata": {},
   "outputs": [
    {
     "data": {
      "image/png": "[encoded data removed]",
      "text/plain": [
       "<Figure size 432x288 with 1 Axes>"
      ]
     },
     "metadata": {
      "needs_background": "light"
     },
     "output_type": "display_data"
    }
   ],
   "source": [
    "# 시각화는 2차원까지밖에 안된다.\n",
    "# 시각화를 쓰기 위해선 차원 축소(PCA)를 거쳐야 함\n",
    "# 차원축소를 해서 2차원 평면에 그릴때, 스캐터플롯 상에서 그리기 어려운게 많은거같음\n",
    "# 그래서 정환님이 시각화를 하지 말라고 하신 것 같다. \n",
    "\n",
    "plt.scatter(data['직장인구'], data['상주인구'], c=cluster, linewidth=1, edgecolor='black')\n",
    "plt.show()"
   ]
  },
  {
   "cell_type": "markdown",
   "metadata": {},
   "source": [
    "## 가장 적합한 클러스터 개수 찾기\n",
    "\n",
    "### 실루엣 점수"
   ]
  },
  {
   "cell_type": "code",
   "execution_count": 13,
   "metadata": {},
   "outputs": [
    {
     "name": "stdout",
     "output_type": "stream",
     "text": [
      "클러스터의 수 : 2, 실루엣 점수 : 0.78\n",
      "클러스터의 수 : 3, 실루엣 점수 : 0.37\n",
      "클러스터의 수 : 4, 실루엣 점수 : 0.38\n",
      "클러스터의 수 : 5, 실루엣 점수 : 0.38\n",
      "클러스터의 수 : 6, 실루엣 점수 : 0.38\n",
      "클러스터의 수 : 7, 실루엣 점수 : 0.32\n",
      "클러스터의 수 : 8, 실루엣 점수 : 0.34\n",
      "클러스터의 수 : 9, 실루엣 점수 : 0.34\n",
      "클러스터의 수 : 10, 실루엣 점수 : 0.28\n",
      "가장 높은 실루엣 점수를 가진 클러스터 수 : 2, 실루엣 점수 : 0.78\n"
     ]
    }
   ],
   "source": [
    "from sklearn.cluster import KMeans\n",
    "from sklearn.metrics import silhouette_score\n",
    "\n",
    "best_n = 1\n",
    "best_score = -1\n",
    "\n",
    "for n_cluster in range(2, 11):\n",
    "    kmeans = KMeans(n_clusters=n_cluster)\n",
    "    kmeans.fit(data)\n",
    "    cluster = kmeans.predict(data)\n",
    "    score = silhouette_score(data, cluster)\n",
    "    \n",
    "    print('클러스터의 수 : {}, 실루엣 점수 : {:.2f}'.format(n_cluster, score))\n",
    "    if score > best_score :\n",
    "        best_n = n_cluster\n",
    "        best_score = score\n",
    "        \n",
    "print('가장 높은 실루엣 점수를 가진 클러스터 수 : {}, 실루엣 점수 : {:.2f}'.format(best_n, best_score))"
   ]
  },
  {
   "cell_type": "markdown",
   "metadata": {},
   "source": [
    "## 엘보우 포인트"
   ]
  },
  {
   "cell_type": "code",
   "execution_count": 14,
   "metadata": {},
   "outputs": [
    {
     "data": {
      "image/png": "[encoded data removed]",
      "text/plain": [
       "<Figure size 432x288 with 1 Axes>"
      ]
     },
     "metadata": {
      "needs_background": "light"
     },
     "output_type": "display_data"
    }
   ],
   "source": [
    "def elbow(X):\n",
    "    sse = []\n",
    "\n",
    "    for i in range(1,11):\n",
    "        km = KMeans(n_clusters=i,algorithm='auto', random_state=42)\n",
    "        km.fit(X)\n",
    "        sse.append(km.inertia_)\n",
    "\n",
    "    plt.plot(range(1,11), sse, marker='o')\n",
    "    plt.xlabel('K')\n",
    "    plt.ylabel('SSE')\n",
    "    plt.show()\n",
    "\n",
    "elbow(data)"
   ]
  },
  {
   "cell_type": "markdown",
   "metadata": {},
   "source": [
    "## 클러스터화 된 array를 데이터프레임으로 변환"
   ]
  },
  {
   "cell_type": "code",
   "execution_count": 15,
   "metadata": {},
   "outputs": [
    {
     "data": {
      "text/html": [
       "<div>\n",
       "<style scoped>\n",
       "    .dataframe tbody tr th:only-of-type {\n",
       "        vertical-align: middle;\n",
       "    }\n",
       "\n",
       "    .dataframe tbody tr th {\n",
       "        vertical-align: top;\n",
       "    }\n",
       "\n",
       "    .dataframe thead th {\n",
       "        text-align: right;\n",
       "    }\n",
       "</style>\n",
       "<table border=\"1\" class=\"dataframe\">\n",
       "  <thead>\n",
       "    <tr style=\"text-align: right;\">\n",
       "      <th></th>\n",
       "      <th>cluster</th>\n",
       "    </tr>\n",
       "  </thead>\n",
       "  <tbody>\n",
       "    <tr>\n",
       "      <th>0</th>\n",
       "      <td>8</td>\n",
       "    </tr>\n",
       "    <tr>\n",
       "      <th>1</th>\n",
       "      <td>1</td>\n",
       "    </tr>\n",
       "    <tr>\n",
       "      <th>2</th>\n",
       "      <td>1</td>\n",
       "    </tr>\n",
       "    <tr>\n",
       "      <th>3</th>\n",
       "      <td>0</td>\n",
       "    </tr>\n",
       "    <tr>\n",
       "      <th>4</th>\n",
       "      <td>8</td>\n",
       "    </tr>\n",
       "    <tr>\n",
       "      <th>...</th>\n",
       "      <td>...</td>\n",
       "    </tr>\n",
       "    <tr>\n",
       "      <th>1443</th>\n",
       "      <td>8</td>\n",
       "    </tr>\n",
       "    <tr>\n",
       "      <th>1444</th>\n",
       "      <td>1</td>\n",
       "    </tr>\n",
       "    <tr>\n",
       "      <th>1445</th>\n",
       "      <td>0</td>\n",
       "    </tr>\n",
       "    <tr>\n",
       "      <th>1446</th>\n",
       "      <td>8</td>\n",
       "    </tr>\n",
       "    <tr>\n",
       "      <th>1447</th>\n",
       "      <td>8</td>\n",
       "    </tr>\n",
       "  </tbody>\n",
       "</table>\n",
       "<p>1448 rows × 1 columns</p>\n",
       "</div>"
      ],
      "text/plain": [
       "      cluster\n",
       "0           8\n",
       "1           1\n",
       "2           1\n",
       "3           0\n",
       "4           8\n",
       "...       ...\n",
       "1443        8\n",
       "1444        1\n",
       "1445        0\n",
       "1446        8\n",
       "1447        8\n",
       "\n",
       "[1448 rows x 1 columns]"
      ]
     },
     "execution_count": 15,
     "metadata": {},
     "output_type": "execute_result"
    }
   ],
   "source": [
    "df_cl = pd.DataFrame(cluster,columns=[\"cluster\"])\n",
    "df_cl"
   ]
  },
  {
   "cell_type": "code",
   "execution_count": 16,
   "metadata": {},
   "outputs": [
    {
     "data": {
      "text/html": [
       "<div>\n",
       "<style scoped>\n",
       "    .dataframe tbody tr th:only-of-type {\n",
       "        vertical-align: middle;\n",
       "    }\n",
       "\n",
       "    .dataframe tbody tr th {\n",
       "        vertical-align: top;\n",
       "    }\n",
       "\n",
       "    .dataframe thead th {\n",
       "        text-align: right;\n",
       "    }\n",
       "</style>\n",
       "<table border=\"1\" class=\"dataframe\">\n",
       "  <thead>\n",
       "    <tr style=\"text-align: right;\">\n",
       "      <th></th>\n",
       "      <th>cluster</th>\n",
       "    </tr>\n",
       "  </thead>\n",
       "  <tbody>\n",
       "    <tr>\n",
       "      <th>count</th>\n",
       "      <td>1448.000000</td>\n",
       "    </tr>\n",
       "    <tr>\n",
       "      <th>mean</th>\n",
       "      <td>3.664365</td>\n",
       "    </tr>\n",
       "    <tr>\n",
       "      <th>std</th>\n",
       "      <td>3.471364</td>\n",
       "    </tr>\n",
       "    <tr>\n",
       "      <th>min</th>\n",
       "      <td>0.000000</td>\n",
       "    </tr>\n",
       "    <tr>\n",
       "      <th>25%</th>\n",
       "      <td>0.000000</td>\n",
       "    </tr>\n",
       "    <tr>\n",
       "      <th>50%</th>\n",
       "      <td>1.000000</td>\n",
       "    </tr>\n",
       "    <tr>\n",
       "      <th>75%</th>\n",
       "      <td>8.000000</td>\n",
       "    </tr>\n",
       "    <tr>\n",
       "      <th>max</th>\n",
       "      <td>9.000000</td>\n",
       "    </tr>\n",
       "  </tbody>\n",
       "</table>\n",
       "</div>"
      ],
      "text/plain": [
       "           cluster\n",
       "count  1448.000000\n",
       "mean      3.664365\n",
       "std       3.471364\n",
       "min       0.000000\n",
       "25%       0.000000\n",
       "50%       1.000000\n",
       "75%       8.000000\n",
       "max       9.000000"
      ]
     },
     "execution_count": 16,
     "metadata": {},
     "output_type": "execute_result"
    }
   ],
   "source": [
    "df_cl.describe()"
   ]
  },
  {
   "cell_type": "code",
   "execution_count": 17,
   "metadata": {},
   "outputs": [
    {
     "data": {
      "text/html": [
       "<div>\n",
       "<style scoped>\n",
       "    .dataframe tbody tr th:only-of-type {\n",
       "        vertical-align: middle;\n",
       "    }\n",
       "\n",
       "    .dataframe tbody tr th {\n",
       "        vertical-align: top;\n",
       "    }\n",
       "\n",
       "    .dataframe thead th {\n",
       "        text-align: right;\n",
       "    }\n",
       "</style>\n",
       "<table border=\"1\" class=\"dataframe\">\n",
       "  <thead>\n",
       "    <tr style=\"text-align: right;\">\n",
       "      <th></th>\n",
       "      <th>유동인구</th>\n",
       "      <th>직장인구</th>\n",
       "      <th>집객시설</th>\n",
       "      <th>상주인구</th>\n",
       "      <th>점포수</th>\n",
       "    </tr>\n",
       "  </thead>\n",
       "  <tbody>\n",
       "    <tr>\n",
       "      <th>0</th>\n",
       "      <td>-0.379660</td>\n",
       "      <td>-0.276883</td>\n",
       "      <td>-0.487783</td>\n",
       "      <td>0.230635</td>\n",
       "      <td>-0.393446</td>\n",
       "    </tr>\n",
       "    <tr>\n",
       "      <th>1</th>\n",
       "      <td>-0.054264</td>\n",
       "      <td>-0.262136</td>\n",
       "      <td>-0.325934</td>\n",
       "      <td>0.837778</td>\n",
       "      <td>-0.271909</td>\n",
       "    </tr>\n",
       "    <tr>\n",
       "      <th>2</th>\n",
       "      <td>-0.155122</td>\n",
       "      <td>-0.236823</td>\n",
       "      <td>-0.487783</td>\n",
       "      <td>0.601048</td>\n",
       "      <td>-0.249854</td>\n",
       "    </tr>\n",
       "    <tr>\n",
       "      <th>3</th>\n",
       "      <td>-0.954543</td>\n",
       "      <td>-0.292365</td>\n",
       "      <td>-0.552523</td>\n",
       "      <td>-1.226648</td>\n",
       "      <td>-0.292556</td>\n",
       "    </tr>\n",
       "    <tr>\n",
       "      <th>4</th>\n",
       "      <td>0.201444</td>\n",
       "      <td>-0.282122</td>\n",
       "      <td>-0.455413</td>\n",
       "      <td>-0.073633</td>\n",
       "      <td>-0.290210</td>\n",
       "    </tr>\n",
       "    <tr>\n",
       "      <th>...</th>\n",
       "      <td>...</td>\n",
       "      <td>...</td>\n",
       "      <td>...</td>\n",
       "      <td>...</td>\n",
       "      <td>...</td>\n",
       "    </tr>\n",
       "    <tr>\n",
       "      <th>1443</th>\n",
       "      <td>-0.102489</td>\n",
       "      <td>-0.269003</td>\n",
       "      <td>-0.002235</td>\n",
       "      <td>-0.496962</td>\n",
       "      <td>0.049999</td>\n",
       "    </tr>\n",
       "    <tr>\n",
       "      <th>1444</th>\n",
       "      <td>0.191144</td>\n",
       "      <td>-0.266494</td>\n",
       "      <td>-0.099345</td>\n",
       "      <td>0.403309</td>\n",
       "      <td>-0.139579</td>\n",
       "    </tr>\n",
       "    <tr>\n",
       "      <th>1445</th>\n",
       "      <td>-0.329975</td>\n",
       "      <td>-0.280581</td>\n",
       "      <td>-0.261194</td>\n",
       "      <td>-0.948838</td>\n",
       "      <td>-0.339012</td>\n",
       "    </tr>\n",
       "    <tr>\n",
       "      <th>1446</th>\n",
       "      <td>0.050364</td>\n",
       "      <td>-0.276487</td>\n",
       "      <td>-0.423044</td>\n",
       "      <td>0.008526</td>\n",
       "      <td>-0.215599</td>\n",
       "    </tr>\n",
       "    <tr>\n",
       "      <th>1447</th>\n",
       "      <td>-0.313213</td>\n",
       "      <td>-0.273934</td>\n",
       "      <td>0.191984</td>\n",
       "      <td>-0.670332</td>\n",
       "      <td>0.059854</td>\n",
       "    </tr>\n",
       "  </tbody>\n",
       "</table>\n",
       "<p>1448 rows × 5 columns</p>\n",
       "</div>"
      ],
      "text/plain": [
       "          유동인구      직장인구      집객시설      상주인구       점포수\n",
       "0    -0.379660 -0.276883 -0.487783  0.230635 -0.393446\n",
       "1    -0.054264 -0.262136 -0.325934  0.837778 -0.271909\n",
       "2    -0.155122 -0.236823 -0.487783  0.601048 -0.249854\n",
       "3    -0.954543 -0.292365 -0.552523 -1.226648 -0.292556\n",
       "4     0.201444 -0.282122 -0.455413 -0.073633 -0.290210\n",
       "...        ...       ...       ...       ...       ...\n",
       "1443 -0.102489 -0.269003 -0.002235 -0.496962  0.049999\n",
       "1444  0.191144 -0.266494 -0.099345  0.403309 -0.139579\n",
       "1445 -0.329975 -0.280581 -0.261194 -0.948838 -0.339012\n",
       "1446  0.050364 -0.276487 -0.423044  0.008526 -0.215599\n",
       "1447 -0.313213 -0.273934  0.191984 -0.670332  0.059854\n",
       "\n",
       "[1448 rows x 5 columns]"
      ]
     },
     "execution_count": 17,
     "metadata": {},
     "output_type": "execute_result"
    }
   ],
   "source": [
    "data"
   ]
  },
  {
   "cell_type": "code",
   "execution_count": 18,
   "metadata": {},
   "outputs": [],
   "source": [
    "final = pd.concat([data, df_cl],axis=1)"
   ]
  },
  {
   "cell_type": "code",
   "execution_count": 19,
   "metadata": {},
   "outputs": [],
   "source": [
    "need_name = pd.read_excel('norm_data.xlsx')"
   ]
  },
  {
   "cell_type": "code",
   "execution_count": 20,
   "metadata": {},
   "outputs": [
    {
     "data": {
      "text/html": [
       "<div>\n",
       "<style scoped>\n",
       "    .dataframe tbody tr th:only-of-type {\n",
       "        vertical-align: middle;\n",
       "    }\n",
       "\n",
       "    .dataframe tbody tr th {\n",
       "        vertical-align: top;\n",
       "    }\n",
       "\n",
       "    .dataframe thead th {\n",
       "        text-align: right;\n",
       "    }\n",
       "</style>\n",
       "<table border=\"1\" class=\"dataframe\">\n",
       "  <thead>\n",
       "    <tr style=\"text-align: right;\">\n",
       "      <th></th>\n",
       "      <th>Unnamed: 0</th>\n",
       "      <th>상권코드명</th>\n",
       "      <th>유동인구</th>\n",
       "      <th>직장인구</th>\n",
       "      <th>집객시설</th>\n",
       "      <th>상주인구</th>\n",
       "      <th>점포수</th>\n",
       "    </tr>\n",
       "  </thead>\n",
       "  <tbody>\n",
       "    <tr>\n",
       "      <th>0</th>\n",
       "      <td>0</td>\n",
       "      <td>가로공원로58길</td>\n",
       "      <td>-0.379660</td>\n",
       "      <td>-0.276883</td>\n",
       "      <td>-0.487783</td>\n",
       "      <td>0.230635</td>\n",
       "      <td>-0.393446</td>\n",
       "    </tr>\n",
       "    <tr>\n",
       "      <th>1</th>\n",
       "      <td>1</td>\n",
       "      <td>가로공원로76가길</td>\n",
       "      <td>-0.054264</td>\n",
       "      <td>-0.262136</td>\n",
       "      <td>-0.325934</td>\n",
       "      <td>0.837778</td>\n",
       "      <td>-0.271909</td>\n",
       "    </tr>\n",
       "    <tr>\n",
       "      <th>2</th>\n",
       "      <td>2</td>\n",
       "      <td>가로공원로80길</td>\n",
       "      <td>-0.155122</td>\n",
       "      <td>-0.236823</td>\n",
       "      <td>-0.487783</td>\n",
       "      <td>0.601048</td>\n",
       "      <td>-0.249854</td>\n",
       "    </tr>\n",
       "    <tr>\n",
       "      <th>3</th>\n",
       "      <td>3</td>\n",
       "      <td>가리봉시장</td>\n",
       "      <td>-0.954543</td>\n",
       "      <td>-0.292365</td>\n",
       "      <td>-0.552523</td>\n",
       "      <td>-1.226648</td>\n",
       "      <td>-0.292556</td>\n",
       "    </tr>\n",
       "    <tr>\n",
       "      <th>4</th>\n",
       "      <td>4</td>\n",
       "      <td>가마산로61길</td>\n",
       "      <td>0.201444</td>\n",
       "      <td>-0.282122</td>\n",
       "      <td>-0.455413</td>\n",
       "      <td>-0.073633</td>\n",
       "      <td>-0.290210</td>\n",
       "    </tr>\n",
       "    <tr>\n",
       "      <th>...</th>\n",
       "      <td>...</td>\n",
       "      <td>...</td>\n",
       "      <td>...</td>\n",
       "      <td>...</td>\n",
       "      <td>...</td>\n",
       "      <td>...</td>\n",
       "      <td>...</td>\n",
       "    </tr>\n",
       "    <tr>\n",
       "      <th>1443</th>\n",
       "      <td>1443</td>\n",
       "      <td>휘경로2길</td>\n",
       "      <td>-0.102489</td>\n",
       "      <td>-0.269003</td>\n",
       "      <td>-0.002235</td>\n",
       "      <td>-0.496962</td>\n",
       "      <td>0.049999</td>\n",
       "    </tr>\n",
       "    <tr>\n",
       "      <th>1444</th>\n",
       "      <td>1444</td>\n",
       "      <td>휘경로3길</td>\n",
       "      <td>0.191144</td>\n",
       "      <td>-0.266494</td>\n",
       "      <td>-0.099345</td>\n",
       "      <td>0.403309</td>\n",
       "      <td>-0.139579</td>\n",
       "    </tr>\n",
       "    <tr>\n",
       "      <th>1445</th>\n",
       "      <td>1445</td>\n",
       "      <td>흑석로13길</td>\n",
       "      <td>-0.329975</td>\n",
       "      <td>-0.280581</td>\n",
       "      <td>-0.261194</td>\n",
       "      <td>-0.948838</td>\n",
       "      <td>-0.339012</td>\n",
       "    </tr>\n",
       "    <tr>\n",
       "      <th>1446</th>\n",
       "      <td>1446</td>\n",
       "      <td>흑석로9길</td>\n",
       "      <td>0.050364</td>\n",
       "      <td>-0.276487</td>\n",
       "      <td>-0.423044</td>\n",
       "      <td>0.008526</td>\n",
       "      <td>-0.215599</td>\n",
       "    </tr>\n",
       "    <tr>\n",
       "      <th>1447</th>\n",
       "      <td>1447</td>\n",
       "      <td>흑석시장</td>\n",
       "      <td>-0.313213</td>\n",
       "      <td>-0.273934</td>\n",
       "      <td>0.191984</td>\n",
       "      <td>-0.670332</td>\n",
       "      <td>0.059854</td>\n",
       "    </tr>\n",
       "  </tbody>\n",
       "</table>\n",
       "<p>1448 rows × 7 columns</p>\n",
       "</div>"
      ],
      "text/plain": [
       "      Unnamed: 0      상권코드명      유동인구      직장인구      집객시설      상주인구       점포수\n",
       "0              0   가로공원로58길 -0.379660 -0.276883 -0.487783  0.230635 -0.393446\n",
       "1              1  가로공원로76가길 -0.054264 -0.262136 -0.325934  0.837778 -0.271909\n",
       "2              2   가로공원로80길 -0.155122 -0.236823 -0.487783  0.601048 -0.249854\n",
       "3              3      가리봉시장 -0.954543 -0.292365 -0.552523 -1.226648 -0.292556\n",
       "4              4    가마산로61길  0.201444 -0.282122 -0.455413 -0.073633 -0.290210\n",
       "...          ...        ...       ...       ...       ...       ...       ...\n",
       "1443        1443      휘경로2길 -0.102489 -0.269003 -0.002235 -0.496962  0.049999\n",
       "1444        1444      휘경로3길  0.191144 -0.266494 -0.099345  0.403309 -0.139579\n",
       "1445        1445     흑석로13길 -0.329975 -0.280581 -0.261194 -0.948838 -0.339012\n",
       "1446        1446      흑석로9길  0.050364 -0.276487 -0.423044  0.008526 -0.215599\n",
       "1447        1447       흑석시장 -0.313213 -0.273934  0.191984 -0.670332  0.059854\n",
       "\n",
       "[1448 rows x 7 columns]"
      ]
     },
     "execution_count": 20,
     "metadata": {},
     "output_type": "execute_result"
    }
   ],
   "source": [
    "need_name"
   ]
  },
  {
   "cell_type": "code",
   "execution_count": 21,
   "metadata": {},
   "outputs": [],
   "source": [
    "need_name = need_name[['상권코드명']]"
   ]
  },
  {
   "cell_type": "code",
   "execution_count": 22,
   "metadata": {},
   "outputs": [
    {
     "data": {
      "text/html": [
       "<div>\n",
       "<style scoped>\n",
       "    .dataframe tbody tr th:only-of-type {\n",
       "        vertical-align: middle;\n",
       "    }\n",
       "\n",
       "    .dataframe tbody tr th {\n",
       "        vertical-align: top;\n",
       "    }\n",
       "\n",
       "    .dataframe thead th {\n",
       "        text-align: right;\n",
       "    }\n",
       "</style>\n",
       "<table border=\"1\" class=\"dataframe\">\n",
       "  <thead>\n",
       "    <tr style=\"text-align: right;\">\n",
       "      <th></th>\n",
       "      <th>상권코드명</th>\n",
       "    </tr>\n",
       "  </thead>\n",
       "  <tbody>\n",
       "    <tr>\n",
       "      <th>0</th>\n",
       "      <td>가로공원로58길</td>\n",
       "    </tr>\n",
       "    <tr>\n",
       "      <th>1</th>\n",
       "      <td>가로공원로76가길</td>\n",
       "    </tr>\n",
       "    <tr>\n",
       "      <th>2</th>\n",
       "      <td>가로공원로80길</td>\n",
       "    </tr>\n",
       "    <tr>\n",
       "      <th>3</th>\n",
       "      <td>가리봉시장</td>\n",
       "    </tr>\n",
       "    <tr>\n",
       "      <th>4</th>\n",
       "      <td>가마산로61길</td>\n",
       "    </tr>\n",
       "    <tr>\n",
       "      <th>...</th>\n",
       "      <td>...</td>\n",
       "    </tr>\n",
       "    <tr>\n",
       "      <th>1443</th>\n",
       "      <td>휘경로2길</td>\n",
       "    </tr>\n",
       "    <tr>\n",
       "      <th>1444</th>\n",
       "      <td>휘경로3길</td>\n",
       "    </tr>\n",
       "    <tr>\n",
       "      <th>1445</th>\n",
       "      <td>흑석로13길</td>\n",
       "    </tr>\n",
       "    <tr>\n",
       "      <th>1446</th>\n",
       "      <td>흑석로9길</td>\n",
       "    </tr>\n",
       "    <tr>\n",
       "      <th>1447</th>\n",
       "      <td>흑석시장</td>\n",
       "    </tr>\n",
       "  </tbody>\n",
       "</table>\n",
       "<p>1448 rows × 1 columns</p>\n",
       "</div>"
      ],
      "text/plain": [
       "          상권코드명\n",
       "0      가로공원로58길\n",
       "1     가로공원로76가길\n",
       "2      가로공원로80길\n",
       "3         가리봉시장\n",
       "4       가마산로61길\n",
       "...         ...\n",
       "1443      휘경로2길\n",
       "1444      휘경로3길\n",
       "1445     흑석로13길\n",
       "1446      흑석로9길\n",
       "1447       흑석시장\n",
       "\n",
       "[1448 rows x 1 columns]"
      ]
     },
     "execution_count": 22,
     "metadata": {},
     "output_type": "execute_result"
    }
   ],
   "source": [
    "need_name"
   ]
  },
  {
   "cell_type": "code",
   "execution_count": 23,
   "metadata": {},
   "outputs": [],
   "source": [
    "final = pd.concat([need_name, final],axis=1)"
   ]
  },
  {
   "cell_type": "code",
   "execution_count": 24,
   "metadata": {},
   "outputs": [],
   "source": [
    "final.to_excel('final.xlsx')"
   ]
  }
 ],
 "metadata": {
  "kernelspec": {
   "display_name": "Python 3",
   "language": "python",
   "name": "python3"
  },
  "language_info": {
   "codemirror_mode": {
    "name": "ipython",
    "version": 3
   },
   "file_extension": ".py",
   "mimetype": "text/x-python",
   "name": "python",
   "nbconvert_exporter": "python",
   "pygments_lexer": "ipython3",
   "version": "3.8.3"
  }
 },
 "nbformat": 4,
 "nbformat_minor": 4
}
